{
 "cells": [
  {
   "cell_type": "markdown",
   "metadata": {},
   "source": [
    "---\n",
    "\n",
    "_You are currently looking at **version 1.1** of this notebook. To download notebooks and datafiles, as well as get help on Jupyter notebooks in the Coursera platform, visit the [Jupyter Notebook FAQ](https://www.coursera.org/learn/python-text-mining/resources/d9pwm) course resource._\n",
    "\n",
    "---"
   ]
  },
  {
   "cell_type": "markdown",
   "metadata": {},
   "source": [
    "# Assignment 1\n",
    "\n",
    "In this assignment, you'll be working with messy medical data and using regex to extract relevant infromation from the data. \n",
    "\n",
    "Each line of the `dates.txt` file corresponds to a medical note. Each note has a date that needs to be extracted, but each date is encoded in one of many formats.\n",
    "\n",
    "The goal of this assignment is to correctly identify all of the different date variants encoded in this dataset and to properly normalize and sort the dates. \n",
    "\n",
    "Here is a list of some of the variants you might encounter in this dataset:\n",
    "* 04/20/2009; 04/20/09; 4/20/09; 4/3/09\n",
    "* Mar-20-2009; Mar 20, 2009; March 20, 2009;  Mar. 20, 2009; Mar 20 2009;\n",
    "* 20 Mar 2009; 20 March 2009; 20 Mar. 2009; 20 March, 2009\n",
    "* Mar 20th, 2009; Mar 21st, 2009; Mar 22nd, 2009\n",
    "* Feb 2009; Sep 2009; Oct 2010\n",
    "* 6/2008; 12/2009\n",
    "* 2009; 2010\n",
    "\n",
    "Once you have extracted these date patterns from the text, the next step is to sort them in ascending chronological order accoring to the following rules:\n",
    "* Assume all dates in xx/xx/xx format are mm/dd/yy\n",
    "* Assume all dates where year is encoded in only two digits are years from the 1900's (e.g. 1/5/89 is January 5th, 1989)\n",
    "* If the day is missing (e.g. 9/2009), assume it is the first day of the month (e.g. September 1, 2009).\n",
    "* If the month is missing (e.g. 2010), assume it is the first of January of that year (e.g. January 1, 2010).\n",
    "* Watch out for potential typos as this is a raw, real-life derived dataset.\n",
    "\n",
    "With these rules in mind, find the correct date in each note and return a pandas Series in chronological order of the original Series' indices.\n",
    "\n",
    "For example if the original series was this:\n",
    "\n",
    "    0    1999\n",
    "    1    2010\n",
    "    2    1978\n",
    "    3    2015\n",
    "    4    1985\n",
    "\n",
    "Your function should return this:\n",
    "\n",
    "    0    2\n",
    "    1    4\n",
    "    2    0\n",
    "    3    1\n",
    "    4    3\n",
    "\n",
    "Your score will be calculated using [Kendall's tau](https://en.wikipedia.org/wiki/Kendall_rank_correlation_coefficient), a correlation measure for ordinal data.\n",
    "\n",
    "*This function should return a Series of length 500 and dtype int.*"
   ]
  },
  {
   "cell_type": "code",
   "execution_count": 11,
   "metadata": {},
   "outputs": [
    {
     "data": {
      "text/plain": [
       "0         03/25/93 Total time of visit (in minutes):\\n\n",
       "1                       6/18/85 Primary Care Doctor:\\n\n",
       "2    sshe plans to move as of 7/8/71 In-Home Servic...\n",
       "3                7 on 9/27/75 Audit C Score Current:\\n\n",
       "4    2/6/96 sleep studyPain Treatment Pain Level (N...\n",
       "5                    .Per 7/06/79 Movement D/O note:\\n\n",
       "6    4, 5/18/78 Patient's thoughts about current su...\n",
       "7    10/24/89 CPT Code: 90801 - Psychiatric Diagnos...\n",
       "8                         3/7/86 SOS-10 Total Score:\\n\n",
       "9             (4/10/71)Score-1Audit C Score Current:\\n\n",
       "dtype: object"
      ]
     },
     "execution_count": 11,
     "metadata": {},
     "output_type": "execute_result"
    }
   ],
   "source": [
    "import pandas as pd\n",
    "\n",
    "doc = []\n",
    "with open('dates.txt') as file:\n",
    "    for line in file:\n",
    "        doc.append(line)\n",
    "\n",
    "df = pd.Series(doc)\n",
    "df.head(10)"
   ]
  },
  {
   "cell_type": "code",
   "execution_count": 12,
   "metadata": {},
   "outputs": [],
   "source": [
    "def date_sorter():\n",
    "    #Change column name to 'text'\n",
    "    df1 = pd.DataFrame(df, columns=['text'])\n",
    "    #1.pattern xx/xx/xx\n",
    "    regex1=('\\d{1,2}[/-]\\d{1,2}[/-]\\d{2,4}')\n",
    "    #2.pattern xx/xx/xxxx or xx/xxxx\n",
    "    regex2=('(?:\\d{1}|\\d{2})[/]*(?:\\d{1}|\\d{2})[/]*\\d{4}')\n",
    "    #3 pattern x/xxxx\n",
    "    regex3=('\\d{1}[/]\\d{4}')\n",
    "    #4.pattern month digits (th/st/rd/nd) year\n",
    "    regex4=('(?:Jan|Feb|Mar|Apr|May|Jun|Jul|Aug|Sep|Oct|Nov|Dec|Age|Since)[a-z.,]* \\d{1,2}[-.,]* \\d{4}')\n",
    "    #5.pattern digit month year\n",
    "    regex5=('\\d{1,2} (?:Jan|Feb|Mar|Apr|May|Jun|Jul|Aug|Sep|Oct|Nov|Dec|Since)[a-z.,]* \\d{4}') \n",
    "    #6.pattern month/year\n",
    "    regex6=('(?:Jan|Feb|Mar|Apr|May|Jun|Jul|Aug|Sep|Oct|Nov|Dec|Age|Since)[a-z.,]* \\d{4}')\n",
    "    #7.year\n",
    "    regex7=('\\d{4}')\n",
    "    #Catch all the date types\n",
    "    full_regex = '(%s|%s|%s|%s|%s|%s|%s)' %(regex1, regex2, regex3, regex4, regex5, regex6, regex7)\n",
    "    parsed_date = df1['text'].str.extract(full_regex)\n",
    "    #Change the column name to 'date'\n",
    "    new=parsed_date.rename(columns={0: \"date\"})\n",
    "    #Revise a special value\n",
    "    new['date']=new['date'].apply(lambda x: '01/01/2008' if x=='7787' else x)\n",
    "    #Add 01/01 to only YEAR\n",
    "    new['date']=new['date'].apply(lambda x: '01/01/'+x if len(x)==4 else x)\n",
    "    #Add 01 to 08/2009 type\n",
    "    new['date']=new['date'].apply(lambda x: x[:(x.find('/'))]+'/01'+x[-5:] if x.count('/')==1 else x)\n",
    "    #Add 01 to June/2009 type\n",
    "    new['date']=new['date'].apply(lambda x: x[:-5]+'/01'+x[-5:] if x.count(' ')==1 else x)\n",
    "    #Clean all characters to /\n",
    "    new['date']=new['date'].apply(lambda x: x.replace(' ','/'))\n",
    "    new['date']=new['date'].apply(lambda x: x.replace(',',''))\n",
    "    new['date']=new['date'].apply(lambda x: x.replace('.',''))\n",
    "    new['date']=new['date'].apply(lambda x: x.replace('-','/'))\n",
    "    #Change xx/month/xxxx to month/xx/xxxx\n",
    "    new['date']=new['date'].apply(lambda x: x[3:-4]+x[:2]+x[-5:] if x[(x.find('/'))+1:].find('/')>2 else x)\n",
    "    #Month dictionary\n",
    "    month_dict = {'February': 2, 'Dec': 12, 'Apr': 4, 'Jan': 1, 'Janaury': 1,'August': 8, 'October': 10,'September': 9, 'Mar': 3, 'November': 11, 'Jul': 7, 'January': 1,\n",
    "                  'Feb': 2, 'May': 5, 'Aug': 8, 'Jun': 6, 'Sep': 9, 'Oct': 10, 'June': 6, 'March': 3, \n",
    "                  'July': 7, 'Since': 1, 'Nov': 11, 'April': 4, 'Decemeber': 12, 'Age': 8}\n",
    "    #Split 'date' to 'Month','Day','Year'\n",
    "    new[['Month','Day','Year']] = new.date.str.split(\"/\",expand=True)\n",
    "    #Dictionary\n",
    "    new.replace({\"Month\": month_dict}, inplace=True)\n",
    "    #Add 19 to year only has two digits\n",
    "    new['Year']=new['Year'].apply(lambda x: '19'+x if len(x)==2 else x)\n",
    "    new['Month'] = new['Month'].apply(lambda x: str(x))\n",
    "    new['Day'] = new['Day'].apply(lambda x: str(x))\n",
    "    new['Year'] = new['Year'].apply(lambda x: str(x))\n",
    "    new['D'] = new['Month'] + '/' + new['Day'] + '/' + new['Year']\n",
    "    new['D'] = pd.to_datetime(new['D'])\n",
    "    new.sort_values(by='D',inplace=True)\n",
    "    df2=new.reset_index()\n",
    "    return pd.Series(df2['index'])"
   ]
  },
  {
   "cell_type": "code",
   "execution_count": 15,
   "metadata": {},
   "outputs": [
    {
     "name": "stdout",
     "output_type": "stream",
     "text": [
      "0        9\n",
      "1       84\n",
      "2        2\n",
      "3       53\n",
      "4       28\n",
      "      ... \n",
      "495    231\n",
      "496    141\n",
      "497    186\n",
      "498    161\n",
      "499    413\n",
      "Name: index, Length: 500, dtype: int64\n"
     ]
    }
   ],
   "source": [
    "date_sorter()"
   ]
  },
  {
   "cell_type": "code",
   "execution_count": null,
   "metadata": {},
   "outputs": [],
   "source": []
  }
 ],
 "metadata": {
  "coursera": {
   "course_slug": "python-text-mining",
   "graded_item_id": "LvcWI",
   "launcher_item_id": "krne9",
   "part_id": "Mkp1I"
  },
  "kernelspec": {
   "display_name": "Python 3",
   "language": "python",
   "name": "python3"
  },
  "language_info": {
   "codemirror_mode": {
    "name": "ipython",
    "version": 3
   },
   "file_extension": ".py",
   "mimetype": "text/x-python",
   "name": "python",
   "nbconvert_exporter": "python",
   "pygments_lexer": "ipython3",
   "version": "3.7.4"
  }
 },
 "nbformat": 4,
 "nbformat_minor": 2
}
